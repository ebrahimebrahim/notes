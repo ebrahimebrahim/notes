{
 "cells": [
  {
   "cell_type": "markdown",
   "metadata": {},
   "source": [
    "# Problem 1\n",
    "\n",
    "## 1a\n",
    "\n",
    "$$\n",
    "\\def\\Vmm{V_\\text{minimax}}\n",
    "\\def\\U{\\text{Utility}}\n",
    "\\def\\Ev{\\text{Eval}}\n",
    "\\def\\IsEnd{\\text{IsEnd}}\n",
    "\\def\\A{\\text{Actions}}\n",
    "\\def\\S{\\text{Succ}}\n",
    "\\def\\P{\\text{Player}}\n",
    "\\Vmm(s,d) = \\left\\{ \n",
    "\\begin{array}{}\n",
    "\\U(s) & \\text{if}\\ \\IsEnd(s) \\\\\n",
    "\\Ev(s) & \\text{if}\\ d=0 \\\\\n",
    "\\max_{a\\in\\A(s)} \\Vmm(\\S(s,a),d) & \\text{if}\\ \\P(s)=a_0 \\\\\n",
    "\\min_{a\\in\\A(s)} \\Vmm(\\S(s,a),d) & \\text{if}\\ \\P(s)\\in \\{a_1,\\ldots,a_{n-1}\\} \\\\\n",
    "\\min_{a\\in\\A(s)} \\Vmm(\\S(s,a),d-1) & \\text{if}\\ \\P(s)=a_n \n",
    "\\end{array}\n",
    "\\right.\n",
    "$$\n",
    "\n",
    "and for $s$ with $\\P(s)=a_0$ we define\n",
    "\n",
    "$$\n",
    "\\pi_\\text{max}(s) = \\text{argmax}_{a\\in\\A(s)} \\Vmm(\\S(s,a),d)\n",
    "$$\n",
    "\n"
   ]
  },
  {
   "cell_type": "markdown",
   "metadata": {},
   "source": [
    "## 1b\n",
    "\n",
    "> Why does minimax pacman sometimes thrash around right next to a dot without eating it?\n",
    "\n",
    "I think this happens when there's just one dot in a big empty area. Pacman could take the dot now, or it could wiggle around a little and then take the dot a couple of moves later. These have equal value!\n",
    "\n",
    "> Why do you think Pac-Man rushes the closest ghost in minimax search on trappedClassic? \n",
    "\n",
    "Pacman rushes the closest ghost on\n",
    "\n",
    "``` python pacman.py -p MinimaxAgent -l trappedClassic -a depth=3 ```\n",
    "\n",
    "and the reason for this is that trying to survive for longer only leads to defeat with a lower score. Points are lost for waiting around and not eating dots. Suicide really is the best option in the trapped game."
   ]
  }
 ],
 "metadata": {
  "kernelspec": {
   "display_name": "Python 3",
   "language": "python",
   "name": "python3"
  },
  "language_info": {
   "codemirror_mode": {
    "name": "ipython",
    "version": 3
   },
   "file_extension": ".py",
   "mimetype": "text/x-python",
   "name": "python",
   "nbconvert_exporter": "python",
   "pygments_lexer": "ipython3",
   "version": "3.7.3"
  }
 },
 "nbformat": 4,
 "nbformat_minor": 4
}
