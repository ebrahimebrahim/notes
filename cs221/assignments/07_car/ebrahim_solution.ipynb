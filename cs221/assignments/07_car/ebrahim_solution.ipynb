{
 "cells": [
  {
   "cell_type": "markdown",
   "metadata": {},
   "source": [
    "# Problem 1\n",
    "\n",
    "My solution in \\[N1 - 152\\]."
   ]
  },
  {
   "cell_type": "code",
   "execution_count": 19,
   "metadata": {},
   "outputs": [
    {
     "name": "stdout",
     "output_type": "stream",
     "text": [
      "With epsilon=0.1 and eta=0.2:\n",
      "P(c2=1|d2=0) = 0.2\n",
      "P(c2=1|d2=0,d3=1) = 0.4157303370786517\n",
      "\n",
      "With epsilon=0.5 and eta=0.2:\n",
      "P(c2=1|d2=0) = 0.2\n",
      "P(c2=1|d2=0,d3=1) = 0.2\n"
     ]
    }
   ],
   "source": [
    "# Helper for computing things in problem 1c\n",
    "\n",
    "def problem1c(epsilon=0.1,eta=0.2):\n",
    "    print(\"With epsilon={} and eta={}:\".format(epsilon,eta))\n",
    "    print(\"P(c2=1|d2=0) =\",eta)\n",
    "    print(\"P(c2=1|d2=0,d3=1) = \",end='')\n",
    "    weight_c2_0 = 0.5 * (1-eta) * ((1-epsilon)*eta+epsilon*(1-eta))\n",
    "    weight_c2_1 = 0.5 * eta * (epsilon * eta + (1-epsilon)*(1-eta))\n",
    "    print(\n",
    "        weight_c2_1 / (weight_c2_0 + weight_c2_1)\n",
    "    )\n",
    "\n",
    "problem1c()\n",
    "print()\n",
    "problem1c(epsilon=0.5)"
   ]
  }
 ],
 "metadata": {
  "kernelspec": {
   "display_name": "Python 3",
   "language": "python",
   "name": "python3"
  },
  "language_info": {
   "codemirror_mode": {
    "name": "ipython",
    "version": 3
   },
   "file_extension": ".py",
   "mimetype": "text/x-python",
   "name": "python",
   "nbconvert_exporter": "python",
   "pygments_lexer": "ipython3",
   "version": "3.7.3"
  }
 },
 "nbformat": 4,
 "nbformat_minor": 4
}
