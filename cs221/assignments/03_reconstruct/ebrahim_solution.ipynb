{
 "cells": [
  {
   "cell_type": "markdown",
   "metadata": {},
   "source": [
    "# Problem 1\n",
    "\n",
    "## 1a\n",
    "\n",
    "Consider the input string `\"peanutrition\"`, and suppose the cost function is in terms of unigrams. This means that the cost of a segementation of the string is just the sum of the costs associated with the individual words.\n",
    "\n",
    "Assume the costs of words are as follows:\n",
    "- `pea` costs 10\n",
    "- `peanut` costs 8\n",
    "- `nutrition costs 8\n",
    "- all other words cost 99999\n",
    "\n",
    "The greedy algorithm chooses to pick out `peanut` as the first word, since `pea` costs 10.\n",
    "This leaves it having to segment the rest: `rition`. No matter what it does now, it will have at least 99999 cost added to its final solution. And `pea nutrition` is a segmentation that would have cost 18 but could not have been found by the greedy algorithm."
   ]
  },
  {
   "cell_type": "markdown",
   "metadata": {},
   "source": [
    "## 1b\n",
    "\n",
    "How can we view of word segmentation as a _search_ problem?\n",
    "\n",
    "Each state is a particular partial segmenetation. This can be represented by a list of indices of the last letters of words. If the input string is $s$ and the list of indices is $[i_0,\\ldots,i_{n-1}]$, then the words are \n",
    "\n",
    "```s[:i[0]+1], s[i[0]+1:i[1]+1], ..., s[i[n-2]+1:i[n-1]+1]```\n",
    "\n",
    "The indices have to be in increasing order, and they are constrained to the range `[0,len(s))`.\n",
    "\n",
    "End states are ones for which the last index in the list is `len(s)-1`.\n",
    "\n",
    "The initial state is `[]`, no words selected yet.\n",
    "\n",
    "The possible actions from a state $[i_0,\\ldots,i_{n-1}]$ are to append an index from the range `(i[n-1],len(s))`.\n",
    "\n",
    "The cost of an appending an index `j` is the unigram cost of the new word that has been created.\n",
    "This word is `s[i[-1]+1:j+1]`.\n",
    "\n",
    "**WAIT** this is actually a terrible definition of \"state\"... we don't need an entire history to determine the cost of the next move. Remember: _A state is a summary of all the past actions which is sufficient to choose future actions optimally._\n",
    "\n",
    "Each state will instead be a single \"head\" index, point to the most recently selected word head.\n",
    "\n",
    "The initial state is 0. End state could be a special end token, or it could just be the one-past-the-end index `len(s)`, where `s` is the input string.\n",
    "\n",
    "The states accessible from state `i` are all of the indices in the range `[i+1,len(s)]`.\n",
    "For each for $j\\in [i+1,\\text{len}(s)]$, there is exactly one action $i\\to j$ and its cost is the unigram cost of the word `s[i:j]`."
   ]
  },
  {
   "cell_type": "code",
   "execution_count": 1,
   "metadata": {},
   "outputs": [],
   "source": [
    "from util import *"
   ]
  },
  {
   "cell_type": "code",
   "execution_count": 2,
   "metadata": {},
   "outputs": [
    {
     "name": "stdout",
     "output_type": "stream",
     "text": [
      "numStatesExplored = 31\n",
      "totalCost = 20\n",
      "actions = ['East', 'East', 'East', 'East', 'East', 'East', 'East', 'East', 'East', 'East']\n"
     ]
    }
   ],
   "source": [
    "# Testing out the toy example we are given\n",
    "\n",
    "nl = NumberLineSearchProblem()\n",
    "ucs = UniformCostSearch(1) # adjust verbosity here\n",
    "ucs.solve(nl)"
   ]
  },
  {
   "cell_type": "code",
   "execution_count": 3,
   "metadata": {},
   "outputs": [
    {
     "name": "stdout",
     "output_type": "stream",
     "text": [
      "numStatesExplored = 16\n",
      "totalCost = 10\n",
      "actions = ['North', 'North', 'West', 'West', 'West']\n"
     ]
    }
   ],
   "source": [
    "gs = GridSearchProblem(4,2,3)\n",
    "ucs = UniformCostSearch(1)\n",
    "ucs.solve(gs)"
   ]
  },
  {
   "cell_type": "code",
   "execution_count": 11,
   "metadata": {},
   "outputs": [
    {
     "name": "stdout",
     "output_type": "stream",
     "text": [
      "Exploring 0 with pastCost 0\n",
      "  Action p => 1 with cost 0 + 99999\n",
      "  Action pe => 2 with cost 0 + 99999\n",
      "  Action pea => 3 with cost 0 + 10\n",
      "  Action pean => 4 with cost 0 + 99999\n",
      "  Action peanu => 5 with cost 0 + 99999\n",
      "  Action peanut => 6 with cost 0 + 8\n",
      "  Action peanutr => 7 with cost 0 + 99999\n",
      "  Action peanutri => 8 with cost 0 + 99999\n",
      "  Action peanutrit => 9 with cost 0 + 99999\n",
      "  Action peanutriti => 10 with cost 0 + 99999\n",
      "  Action peanutritio => 11 with cost 0 + 99999\n",
      "  Action peanutrition => 12 with cost 0 + 99999\n",
      "Exploring 6 with pastCost 8\n",
      "  Action r => 7 with cost 8 + 99999\n",
      "  Action ri => 8 with cost 8 + 99999\n",
      "  Action rit => 9 with cost 8 + 99999\n",
      "  Action riti => 10 with cost 8 + 99999\n",
      "  Action ritio => 11 with cost 8 + 99999\n",
      "  Action rition => 12 with cost 8 + 99999\n",
      "Exploring 3 with pastCost 10\n",
      "  Action n => 4 with cost 10 + 99999\n",
      "  Action nu => 5 with cost 10 + 99999\n",
      "  Action nut => 6 with cost 10 + 99999\n",
      "  Action nutr => 7 with cost 10 + 99999\n",
      "  Action nutri => 8 with cost 10 + 99999\n",
      "  Action nutrit => 9 with cost 10 + 99999\n",
      "  Action nutriti => 10 with cost 10 + 99999\n",
      "  Action nutritio => 11 with cost 10 + 99999\n",
      "  Action nutrition => 12 with cost 10 + 8\n",
      "Exploring 12 with pastCost 18\n",
      "numStatesExplored = 4\n",
      "totalCost = 18\n",
      "actions = ['pea', 'nutrition']\n",
      "pea nutrition\n"
     ]
    }
   ],
   "source": [
    "from submission import *\n",
    "\n",
    "peanut_unigram_cost_dict = {\n",
    "    \"pea\":10,\n",
    "    \"peanut\":8,\n",
    "    \"nutrition\":8,\n",
    "}\n",
    "peanut_unigram_cost = lambda s : peanut_unigram_cost_dict.get(s,99999)\n",
    "\n",
    "ucs = UniformCostSearch(3)\n",
    "ucs.solve(SegmentationProblem(\"peanutrition\",peanut_unigram_cost))\n",
    "print(' '.join(ucs.actions))"
   ]
  },
  {
   "cell_type": "code",
   "execution_count": 13,
   "metadata": {},
   "outputs": [
    {
     "name": "stdout",
     "output_type": "stream",
     "text": [
      "numStatesExplored = 27\n",
      "totalCost = 49\n",
      "actions = ['pea', 'nutrition', 'nutrition', 'al', 'peanut', 's']\n",
      "pea nutrition nutrition al peanut s\n"
     ]
    }
   ],
   "source": [
    "from submission import *\n",
    "\n",
    "peanut_unigram_cost_dict = {\n",
    "    \"pea\":10,\n",
    "    \"peanut\":8,\n",
    "    \"nutrition\":8,\n",
    "}\n",
    "peanut_unigram_cost = lambda s : peanut_unigram_cost_dict.get(s,5*len(s))\n",
    "\n",
    "ucs = UniformCostSearch(1)\n",
    "ucs.solve(SegmentationProblem(\"peanutritionnutritionalpeanuts\",peanut_unigram_cost))\n",
    "print(' '.join(ucs.actions))"
   ]
  },
  {
   "cell_type": "markdown",
   "metadata": {},
   "source": [
    "# Problem 2\n",
    "## 2a\n",
    "\n",
    "Consider the input string `t ck dgh`, perhaps preceded by some other stuff.\n",
    "Suppose that `possibleFills` gives these limited options:\n",
    "- `possibleFills['t'] = ['eat']`\n",
    "- `possibleFills['ck'] = ['cookie', 'cake']`\n",
    "- `possibleFills['dgh'] = ['dough']`\n",
    "\n",
    "and suppose that the bigram cost function is such that `eat cookie` is cheaper than `eat cake`, but `cookie dough` is _much much_ cheaper than `cake dough`.\n",
    "\n",
    "Then the greedy algorithm will produce `eat cake dough` while the optimal solution is `eat cookie dough`."
   ]
  },
  {
   "cell_type": "markdown",
   "metadata": {},
   "source": [
    "## 2b\n",
    "\n",
    "We have `queryWords`, a list of vowel-less words, and we have the functions `bigramCost` and `possibleFills`.\n",
    "\n",
    "How do we formulate this as a search problem? i.e. what will be the state?\n",
    "\n",
    "A state will be a pair consisting of a word and an index. The word is the \"previously selected\" word in the vowel insertion process, and the index points to a word in `queryWords`.\n",
    "\n",
    "The initial state is `(wordsegUtil.SENTENCE_BEGIN,0)`\n",
    "\n",
    "Given state `(word,i)` the possible actions are different choices of elements of `possibleFills(queryWords[i])`. If one chooses the element `newWord`, then the new state is `(newWord,i+1)` and the costof that is `bigramCost(word,newWord)`.\n",
    "\n",
    "An end state is any state of the form `( _ , len(queryWords) )`.\n"
   ]
  },
  {
   "cell_type": "markdown",
   "metadata": {},
   "source": [
    "# Problem 3\n",
    "\n",
    "Now we are given `query`, `bigramCost`, and `possibleFills`.\n",
    "\n",
    "We need to both insert spaces and insert vowels into the query string.\n",
    "\n",
    "What will be the state?\n",
    "\n",
    "A state will be a pair consisting of a word and an index. The word is the \"previously constructed\" word and the index points to a character in `query`.\n",
    "\n",
    "The initial state is `(wordsegUtil.SENTENCE_BEGIN, 0)` and an end state is any state of the form `( _ , len(query) )`.\n",
    "\n",
    "Given a state `(word,i)`, the reachable states are\n",
    "\n",
    "``` {  (filledNextWord, j) |  j in [i+1,len(query)]  and  filledNextWord in possibleFills(query[i:j])  }```\n",
    "\n",
    "and the cost of going from `(word,i)` to `(filledNextWord, j)` is `bigramCost(word,filledNextWord)`."
   ]
  },
  {
   "cell_type": "markdown",
   "metadata": {},
   "source": [
    "## 3c\n",
    "\n",
    "Given $b(w',w)$, let's come up with a useful $f_b(w)$.\n",
    "\n",
    "... bleh... let's actually pretend we have our $f_b(w)$ and see what's next:\n",
    "\n",
    "Define a relaxed version of the problem of parts (3a) and (3b) as follows:\n",
    "- Simplify the state `(word,i)` to just `i`. States are just indices in the `[0,len(query)]`.\n",
    "- The start state is `0` and the end state is `len(query)`.\n",
    "- Given a state `i` the potentially reachable states are all the `j` in `[i+1,len(query)]`, however there can be many, or no, actions $i\\to j$. There is one action $i\\to j$ for each element $w$ of `possibleFills(query[i:j])`, and the cost of that action is $f_b(w)$.\n",
    "\n",
    "Is this new problem (let's call it $P_\\text{rel}$) really a _relaxation_ of the original problem (let's call it $P$)? All states `(word,i)` from $P$ get mapped to just `i`, and the edge $(w',i)\\to (w,j)$ with cost $b(w',w)$ becomes an edge $i\\to j$ with cost $f_b(w)$. In order for the image problem $P_\\text{rel}$ to be a relaxation of $P$, we must have\n",
    "\n",
    "$$ \\text{Cost}_{P_\\text{rel}}(i\\xrightarrow{w} j) \\leq \\text{Cost}_P((w',i)\\xrightarrow{w}(w,j)) $$\n",
    "\n",
    "That is, we must have\n",
    "\n",
    "$$ f_b(w) \\leq b(w',w). $$\n",
    "\n",
    "(If we want this to work independently of input `query` then the inequality had better just hold for all words $w,w'$.)\n",
    "\n",
    "_Now_ I have some idea of how to pick $f_b(w)$:\n",
    "$$ f_b(w) = \\min_{w'} b(w',w). $$"
   ]
  },
  {
   "cell_type": "markdown",
   "metadata": {},
   "source": [
    "## 3d\n",
    "\n",
    "UCS is a special case of A*, where the heuristic function is taken to be $0$.\n",
    "\n",
    "BFS is a special case of UCS where the graph is acyclic and the costs are all the same.\n",
    "To see this, note that the frontier of UCS would become the \"depth level\" being explored in BFS, and you would pop everything at one level before moving on to the next."
   ]
  }
 ],
 "metadata": {
  "kernelspec": {
   "display_name": "Python 3",
   "language": "python",
   "name": "python3"
  },
  "language_info": {
   "codemirror_mode": {
    "name": "ipython",
    "version": 3
   },
   "file_extension": ".py",
   "mimetype": "text/x-python",
   "name": "python",
   "nbconvert_exporter": "python",
   "pygments_lexer": "ipython3",
   "version": "3.7.3"
  }
 },
 "nbformat": 4,
 "nbformat_minor": 4
}
