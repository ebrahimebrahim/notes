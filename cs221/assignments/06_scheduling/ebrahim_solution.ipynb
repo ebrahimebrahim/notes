{
 "cells": [
  {
   "cell_type": "markdown",
   "metadata": {},
   "source": [
    "# Problem 0\n",
    "\n",
    "# 0a\n",
    "\n",
    "For each button $j\\in\\{1,\\ldots,m\\}$ we have a variable $X_j$.\n",
    "\n",
    "The domain is the same for all variables: $\\{0,1\\}$. Here $1$ means \"press this button\" and $0$ means \"don't press.\"\n",
    "\n",
    "For each light $i\\in\\{1,\\ldots,n\\}$ we can define $B_i=\\{j\\in\\{1,\\ldots,m\\}\\ |\\ i\\in T_j\\}$, the set of buttons that toggle the light $i$.\n",
    "\n",
    "The light $i$ will be on if $\\sum_{j\\in B_i} X_j$ is odd. (I am assuming all the lights start out off.)\n",
    "\n",
    "We want all the lights to end up on after the button presses, so we have a factor for each $i\\in\\{1,\\ldots,n\\}$:\n",
    "\n",
    "$$ f_i(X) = \\sum_{j\\in B_i} X_j \\ \\ \\text{modulo}\\ 2$$\n",
    "\n",
    "The scope of an $f_i$ is the $X_j$ for $j\\in B_i$."
   ]
  },
  {
   "cell_type": "markdown",
   "metadata": {},
   "source": [
    "## 0b\n",
    "\n",
    "(i) Each choice of $X_2$ leads to a unique consistent assignment. There are two consistent assignments: $(1,0,1)$ and $(0,1,0)$.\n",
    "\n",
    "(ii) \n",
    "\n",
    "- `backtrack(x={},w=1)` (no lookahead, so no need to pass around domains. domains are all $\\{0,1\\}$ always).\n",
    "    - Choose unassigned variable $X_1$ (fixed order is $X_1,X_3,X_2$), going through values in fixed order: $\\{0,1\\}$:\n",
    "        - Trying $0$. $\\delta \\leftarrow \\prod \\{\\} = 1$. Not 0, let's dig deeper.\n",
    "        - `backtrack({X_1:0},1*1)`\n",
    "            - Choose unassigned variable $X_2$, go through values:\n",
    "                - Trying $0$. $\\delta \\leftarrow t_1(X_1=0,X_2=0)=0$. It's $0$, continue.\n",
    "                - Trying $1$. $\\delta \\leftarrow t_1(X_1=0,X_2=1)=1$. \n",
    "                - `backtrack({X_1:0, X_2:1},1*1*1)`\n",
    "                    - Choose unassigned variable $X_3$, go through values:\n",
    "                        - Trying $0$. $\\delta \\leftarrow t_2(X_2=1,X_3=0)=1$. Not 0, let's dig deeper.\n",
    "                        - `backtrack({X_1:0, X_2:1, X_3:0},1*1*1*1)`\n",
    "                            - $x$ is a complete assignment. Add it to the list of complete assignments and return.\n",
    "                        - Trying $1$. $\\delta \\leftarrow t_2(X_2=1,X_3=1)=0$. It's $0$, continue.\n",
    "        - Trying $1$. $\\delta \\leftarrow \\prod \\{\\} = 1$. Not 0, let's dig deeper.\n",
    "        - `backtrack({X_1:1},1*1)`\n",
    "            - Choose unassigned variable $X_2$, go through values:\n",
    "                - Trying $0$. $\\delta \\leftarrow t_1(X_1=1,X_2=0)=1$. Not 0, let's dig deeper.\n",
    "                - `backtrack({X_1:1, X_2:0},1*1*1)`\n",
    "                    - Choose unassigned variable $X_3$, go through values:\n",
    "                        - Trying $0$. $\\delta \\leftarrow t_2(X_2=0,X_3=0)=0$. It's $0$, continue.\n",
    "                        - Trying $1$. $\\delta \\leftarrow t_2(X_2=0,X_3=1)=1$. Not 0, let's dig deeper.\n",
    "                        - `backtrack({X_1:1, X_2:0, X_3:1},1*1*1*1)`\n",
    "                            - $x$ is a complete assignment. Add it to the list of complete assignments and return.\n",
    "                - Trying $1$. $\\delta \\leftarrow t_1(X_1=1,X_2=1)=0$. It's $0$, continue.\n",
    "                \n",
    "\n",
    "There are $7$ calls to `backtrack`."
   ]
  },
  {
   "cell_type": "markdown",
   "metadata": {},
   "source": [
    "(iii)\n",
    "This time with AC-3:\n",
    "\n",
    "- `backtrack(x={},w=1,domains={X_1:{0,1}, X_2:{0,1}, X_3:{0,1}})`\n",
    "    - Choose unassigned variable $X_1$ (fixed order is $X_1,X_3,X_2$), going through values in fixed order: \n",
    "        - Trying $0$. $\\delta \\leftarrow \\prod \\{\\} = 1$. Not 0, let's update domains and dig deeper.\n",
    "        - Domain of $X_1$ is now `{0}`, since our assignment now contains `X_1:0`.\n",
    "        - Applying AC-3 to update domains. Start by adding $X_1$ to the set $S$. Begin AC-3 loop:\n",
    "            - Set $S$ is nonempty, proceed. Pop $X_1$ from $S$ and start to work with that.\n",
    "            - Look at each neighbor of $X_1$: okay that's just $X_2$.\n",
    "                - Enforce arc-consistency-wrt-$X_1$ for $X_2$: domain of $X_2$ becomes `{1}`.\n",
    "                - Domain of $X_2$ was changed, so add $X_2$ to $S$.\n",
    "            - Set $S$ is nonempty, repeat. Pop $X_2$.\n",
    "            - Look at each neighbor of $X_2$: okay that's $X_1$ and $X_3$.\n",
    "                - Enforce arc-consistency-wrt-$X_2$ for $X_1$: already arc consistent.\n",
    "                - Enforce arc-consistency-wrt-$X_2$ for $X_3$: domain of $X_3$ becomes `{0}`.\n",
    "                - Domain of $X_3$ was changed, so add $X_3$ to $S$.\n",
    "            - Set $S$ is nonempty, repeat. Pop $X_3$.\n",
    "            - Look at each neighbor of $X_3$: okay that's just $X_2$.\n",
    "                - Enforce arc-consistency-wrt-$X_3$ for $X_2$: already arc consistent.\n",
    "            - $S$ is empty, so stop.\n",
    "        - `backtrack({X_1:0}, 1, {X_1:{0}, X_2:{1}, X_3:{0}})`\n",
    "            - Choose unassigned variable $X_2$. \n",
    "            - There is only one value to try: $1$. We get $\\delta=1$, so keep going.\n",
    "            - No domain update needed, so AC-3 will not do anything.\n",
    "            - `backtrack({X_1:0, X_2:1}, 1, {X_1:{0}, X_2:{1}, X_3:{0}})`\n",
    "                - Choose unassigned variable $X_3$. \n",
    "                - There is only one value to try: $0$. We get $\\delta=1$, so keep going.\n",
    "                - No domain update needed, so AC-3 will not do anything.\n",
    "                - `backtrack({X_1:0, X_2:1, X_3:0}, 1, {X_1:{0}, X_2:{1}, X_3:{0}})`\n",
    "                    - $x$ is a complete assignment. Add to list and return.\n",
    "        - Trying $1$. $\\delta \\leftarrow \\prod \\{\\} = 1$. Not 0, let's update domains and dig deeper.\n",
    "        - Domain of $X_1$ is now `{1}`, since our assignment now contains `X_1:1`.\n",
    "        - Applying AC-3 to update domains. Start by adding $X_1$ to the set $S$. Begin AC-3 loop:\n",
    "            - Set $S$ is nonempty, proceed. Pop $X_1$ from $S$ and start to work with that.\n",
    "            - Look at each neighbor of $X_1$: okay that's just $X_2$.\n",
    "                - Enforce arc-consistency-wrt-$X_1$ for $X_2$: domain of $X_2$ becomes `{0}`.\n",
    "                - Domain of $X_2$ was changed, so add $X_2$ to $S$.\n",
    "            - Set $S$ is nonempty, repeat. Pop $X_2$.\n",
    "            - Look at each neighbor of $X_2$: okay that's $X_1$ and $X_3$.\n",
    "                - Enforce arc-consistency-wrt-$X_2$ for $X_1$: already arc consistent.\n",
    "                - Enforce arc-consistency-wrt-$X_2$ for $X_3$: domain of $X_3$ becomes `{1}`.\n",
    "                - Domain of $X_3$ was changed, so add $X_3$ to $S$.\n",
    "            - Set $S$ is nonempty, repeat. Pop $X_3$.\n",
    "            - Look at each neighbor of $X_3$: okay that's just $X_2$.\n",
    "                - Enforce arc-consistency-wrt-$X_3$ for $X_2$: already arc consistent.\n",
    "            - $S$ is empty, so stop.\n",
    "        - `backtrack({X_1:1}, 1, {X_1:{1}, X_2:{0}, X_3:{1}})`\n",
    "            - Choose unassigned variable $X_2$. \n",
    "            - There is only one value to try: $0$. We get $\\delta=1$, so keep going.\n",
    "            - No domain update needed, so AC-3 will not do anything.\n",
    "            - `backtrack({X_1:1, X_2:0}, 1, {X_1:{1}, X_2:{0}, X_3:{1}})`\n",
    "                - Choose unassigned variable $X_3$. \n",
    "                - There is only one value to try: $1$. We get $\\delta=1$, so keep going.\n",
    "                - No domain update needed, so AC-3 will not do anything.\n",
    "                - `backtrack({X_1:1, X_2:0, X_3:1}, 1, {X_1:{1}, X_2:{0}, X_3:{1}})`\n",
    "                    - $x$ is a complete assignment. Add to list and return.\n",
    "\n",
    "\n",
    "With the way we set up the function `backtrack`, it still has to get called 7 times. But I guess we don't really need to call it when the domains are all singletons. If we just return the solution when the domains are all singletons, then it's just one call to `backtrack`."
   ]
  },
  {
   "cell_type": "markdown",
   "metadata": {},
   "source": [
    "# Problem 1"
   ]
  },
  {
   "cell_type": "code",
   "execution_count": 1,
   "metadata": {
    "scrolled": true
   },
   "outputs": [
    {
     "name": "stdout",
     "output_type": "stream",
     "text": [
      "Found 92 optimal assignments with weight 1.000000 in 2057 operations\n",
      "First assignment took 114 operations\n",
      "Here's the first optimal solution found:\n",
      "|_|_|_|_|_|_|_|Q\n",
      "|_|_|_|Q|_|_|_|_\n",
      "|Q|_|_|_|_|_|_|_\n",
      "|_|_|Q|_|_|_|_|_\n",
      "|_|_|_|_|_|Q|_|_\n",
      "|_|Q|_|_|_|_|_|_\n",
      "|_|_|_|_|_|_|Q|_\n",
      "|_|_|_|_|Q|_|_|_\n"
     ]
    }
   ],
   "source": [
    "## 1a\n",
    "\n",
    "from submission import create_nqueens_csp, BacktrackingSearch, print_queens\n",
    "\n",
    "search = BacktrackingSearch()\n",
    "n_queens_csp = create_nqueens_csp(8)\n",
    "search.solve(n_queens_csp)\n",
    "print(\"Here's the first optimal solution found:\")\n",
    "print_queens(8, search.optimalAssignment)"
   ]
  },
  {
   "cell_type": "code",
   "execution_count": 2,
   "metadata": {},
   "outputs": [
    {
     "name": "stdout",
     "output_type": "stream",
     "text": [
      "Found 92 optimal assignments with weight 1.000000 in 1361 operations\n",
      "First assignment took 76 operations\n",
      "Here's the first optimal solution found:\n",
      "|_|_|_|_|_|_|_|Q\n",
      "|_|_|_|Q|_|_|_|_\n",
      "|Q|_|_|_|_|_|_|_\n",
      "|_|_|Q|_|_|_|_|_\n",
      "|_|_|_|_|_|Q|_|_\n",
      "|_|Q|_|_|_|_|_|_\n",
      "|_|_|_|_|_|_|Q|_\n",
      "|_|_|_|_|Q|_|_|_\n"
     ]
    }
   ],
   "source": [
    "## 1b\n",
    "\n",
    "from submission import create_nqueens_csp, BacktrackingSearch, print_queens\n",
    "\n",
    "search = BacktrackingSearch()\n",
    "n_queens_csp = create_nqueens_csp(8)\n",
    "search.solve(n_queens_csp, mcv=True)\n",
    "print(\"Here's the first optimal solution found:\")\n",
    "print_queens(8, search.optimalAssignment)"
   ]
  },
  {
   "cell_type": "code",
   "execution_count": 3,
   "metadata": {
    "scrolled": true
   },
   "outputs": [
    {
     "name": "stdout",
     "output_type": "stream",
     "text": [
      "Found 92 optimal assignments with weight 1.000000 in 769 operations\n",
      "First assignment took 21 operations\n",
      "Here's the first optimal solution found:\n",
      "|_|_|_|_|_|_|_|Q\n",
      "|_|_|_|Q|_|_|_|_\n",
      "|Q|_|_|_|_|_|_|_\n",
      "|_|_|Q|_|_|_|_|_\n",
      "|_|_|_|_|_|Q|_|_\n",
      "|_|Q|_|_|_|_|_|_\n",
      "|_|_|_|_|_|_|Q|_\n",
      "|_|_|_|_|Q|_|_|_\n"
     ]
    }
   ],
   "source": [
    "## 1c\n",
    "\n",
    "from submission import create_nqueens_csp, BacktrackingSearch, print_queens\n",
    "\n",
    "search = BacktrackingSearch()\n",
    "n_queens_csp = create_nqueens_csp(8)\n",
    "search.solve(n_queens_csp, mcv=False, ac3=True)\n",
    "print(\"Here's the first optimal solution found:\")\n",
    "print_queens(8, search.optimalAssignment)"
   ]
  },
  {
   "cell_type": "code",
   "execution_count": 4,
   "metadata": {},
   "outputs": [
    {
     "name": "stdout",
     "output_type": "stream",
     "text": [
      "Found 2 optimal assignments with weight 1.000000 in 21 operations\n",
      "First assignment took 11 operations\n"
     ]
    },
    {
     "data": {
      "text/plain": [
       "{'x1': 1,\n",
       " 'x2': 0,\n",
       " 'x3': 1,\n",
       " 'x4': 0,\n",
       " 'x5': 1,\n",
       " 'x6': 0,\n",
       " 'x7': 1,\n",
       " 'x8': 0,\n",
       " 'x9': 1,\n",
       " 'x10': 0}"
      ]
     },
     "execution_count": 4,
     "metadata": {},
     "output_type": "execute_result"
    }
   ],
   "source": [
    "# Debugging AC-3 implementation on simpler CSPs\n",
    "\n",
    "from submission import BacktrackingSearch, create_chain_csp\n",
    "\n",
    "search = BacktrackingSearch()\n",
    "csp = create_chain_csp(10)\n",
    "search.solve(csp, mcv=False, ac3=True)\n",
    "search.optimalAssignment"
   ]
  },
  {
   "cell_type": "code",
   "execution_count": 5,
   "metadata": {
    "scrolled": false
   },
   "outputs": [
    {
     "name": "stdout",
     "output_type": "stream",
     "text": [
      "Found 18 optimal assignments with weight 1.000000 in 52 operations\n",
      "First assignment took 8 operations\n"
     ]
    },
    {
     "data": {
      "text/plain": [
       "{'WA': 'green',\n",
       " 'NT': 'blue',\n",
       " 'Q': 'green',\n",
       " 'NSW': 'blue',\n",
       " 'V': 'green',\n",
       " 'SA': 'red',\n",
       " 'T': 'green'}"
      ]
     },
     "execution_count": 5,
     "metadata": {},
     "output_type": "execute_result"
    }
   ],
   "source": [
    "from submission import BacktrackingSearch\n",
    "from util import create_map_coloring_csp\n",
    "\n",
    "search = BacktrackingSearch()\n",
    "csp = create_map_coloring_csp()\n",
    "search.solve(csp, mcv=False, ac3=True)\n",
    "search.optimalAssignment"
   ]
  },
  {
   "cell_type": "code",
   "execution_count": 6,
   "metadata": {},
   "outputs": [
    {
     "name": "stdout",
     "output_type": "stream",
     "text": [
      "Found 10 optimal assignments with weight 1.000000 in 46 operations\n",
      "First assignment took 6 operations\n",
      "Here's the first optimal solution found:\n",
      "|_|_|_|_|Q\n",
      "|_|Q|_|_|_\n",
      "|_|_|_|Q|_\n",
      "|Q|_|_|_|_\n",
      "|_|_|Q|_|_\n"
     ]
    }
   ],
   "source": [
    "from submission import create_nqueens_csp, BacktrackingSearch, print_queens\n",
    "\n",
    "search = BacktrackingSearch()\n",
    "n_queens_csp = create_nqueens_csp(5)\n",
    "search.solve(n_queens_csp, mcv=True, ac3=True)\n",
    "print(\"Here's the first optimal solution found:\")\n",
    "print_queens(5, search.optimalAssignment)"
   ]
  },
  {
   "cell_type": "markdown",
   "metadata": {},
   "source": [
    "# Problem 2\n",
    "\n",
    "## 2a\n",
    "\n",
    "```\n",
    "   i----B1--c--B2--c--B3----s\n",
    "        |      |      |\n",
    "        p      p      p\n",
    "        |      |      |\n",
    "        X1     X2     X3\n",
    "```\n",
    "Something like the diagram there.\n",
    "\n",
    "We introduce new variables `B1`, `B2`, and `B3`.\n",
    "The values they can take on are _pairs_ of values among the values that are possible for partial sums of `X1,X2,X3`. The factors are:\n",
    "- Unary factor `i` is initialization: `[B1[0]==0]` (The square brackets mean indicator function-- so `0` if the condition is false and `1` if it's true)\n",
    "- The binary factors labeled `p` are processing constraints. They carry out the calculation on the first component of a `B` and put the result in the second component. For example the `p` joining `B2` and `X2` is `[B2[0]+X2==B2[1]]`.\n",
    "- The binary factors labeled `c` are all consistency constraints. They just propagate the running calculation along the `B`'s. For example the `c` between `B1` and `B2` is `[B1[1]==B2[0]]`\n",
    "- Unary factor `s` makes use of the sum `X1+X2+X3`, which should be the value `B3[1]` takes: `[B3[1]<=K]`."
   ]
  },
  {
   "cell_type": "code",
   "execution_count": 7,
   "metadata": {},
   "outputs": [
    {
     "name": "stdout",
     "output_type": "stream",
     "text": [
      "Found 4 optimal assignments with weight 1.000000 in 108 operations\n",
      "First assignment took 22 operations\n",
      "|_|_|_|_|_|Q|_|_\n",
      "|_|_|Q|_|_|_|_|_\n",
      "|_|_|_|_|Q|_|_|_\n",
      "|_|_|_|_|_|_|_|Q\n",
      "|Q|_|_|_|_|_|_|_\n",
      "|_|_|_|Q|_|_|_|_\n",
      "|_|Q|_|_|_|_|_|_\n",
      "|_|_|_|_|_|_|Q|_\n"
     ]
    }
   ],
   "source": [
    "# Problem 2b test\n",
    "\n",
    "from submission import create_nqueens_csp, BacktrackingSearch, get_sum_variable, print_queens\n",
    "\n",
    "csp = create_nqueens_csp(8)\n",
    "\n",
    "sum_var = get_sum_variable(csp,\"peup\",[0,1,2,3],7*4)\n",
    "\n",
    "csp.add_unary_factor(sum_var, lambda s : s==18)\n",
    "\n",
    "search = BacktrackingSearch()\n",
    "search.solve(csp, mcv=False, ac3=True)\n",
    "print_queens(8, search.optimalAssignment)"
   ]
  }
 ],
 "metadata": {
  "kernelspec": {
   "display_name": "Python 3",
   "language": "python",
   "name": "python3"
  },
  "language_info": {
   "codemirror_mode": {
    "name": "ipython",
    "version": 3
   },
   "file_extension": ".py",
   "mimetype": "text/x-python",
   "name": "python",
   "nbconvert_exporter": "python",
   "pygments_lexer": "ipython3",
   "version": "3.7.3"
  }
 },
 "nbformat": 4,
 "nbformat_minor": 4
}
